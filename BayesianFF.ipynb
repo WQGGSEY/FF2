{
 "cells": [
  {
   "cell_type": "markdown",
   "metadata": {},
   "source": [
    "# Bayesian Fama-French Factor Model"
   ]
  },
  {
   "cell_type": "markdown",
   "metadata": {},
   "source": [
    "### Data Settings"
   ]
  },
  {
   "cell_type": "code",
   "execution_count": null,
   "metadata": {},
   "outputs": [],
   "source": [
    "import pandas as pd\n",
    "import numpy as np\n",
    "import pickle\n",
    "import warnings\n",
    "import random\n",
    "warnings.filterwarnings(\"ignore\")\n",
    "SEED = 42\n",
    "np.random.seed(SEED)\n",
    "random.seed(SEED)\n",
    "\n",
    "\n",
    "data_path = 'simulation_data'\n",
    "\n",
    "start_date = '2016-03-30'\n",
    "end_date = '2025-03-20'\n",
    "with open(f\"{data_path}/KS200_MASK.pkl\", 'rb') as f:\n",
    "    mask_df:pd.DataFrame = pickle.load(f).ffill(axis=1)\n",
    "    mask_df = mask_df.loc[:, start_date:end_date]\n",
    "with open(f\"{data_path}/Return.pkl\", 'rb') as f:\n",
    "    returns_df = pickle.load(f).ffill(axis=1) * 0.01\n",
    "    returns_df = returns_df.loc[:, start_date:end_date]\n",
    "with open(f\"{data_path}/MarketCap.pkl\", 'rb') as f:\n",
    "    mc_df = pickle.load(f).ffill(axis=1)\n",
    "    mc_df = mc_df.loc[:, start_date:end_date]\n",
    "with open(f\"{data_path}/ifrs-full_Equity.pkl\", 'rb') as f:\n",
    "    be_df = pickle.load(f).ffill(axis=1)\n",
    "    be_df = be_df.loc[:, start_date:end_date]\n",
    "with open(f\"{data_path}/KOSPI_Close.pkl\", 'rb') as f:\n",
    "    kospi_close_df = pickle.load(f).ffill(axis=1)\n",
    "    kospi_return_df = kospi_close_df.pct_change(axis=1)\n",
    "    mkt_df = kospi_return_df.loc[:, start_date:end_date]\n",
    "with open(f\"{data_path}/rf_bond.pkl\", 'rb') as f:\n",
    "    rf_df = pickle.load(f).ffill(axis=1) * 0.01\n",
    "    rf_df = rf_df.loc[:, start_date:end_date]\n",
    "with open(f\"{data_path}/corp_aa_bond.pkl\", 'rb') as f:\n",
    "    corp_aa_df = pickle.load(f).ffill(axis=1) * 0.01\n",
    "    corp_aa_df = corp_aa_df.loc[:, start_date:end_date]\n",
    "with open(f\"{data_path}/corp_bb_bond.pkl\", 'rb') as f:\n",
    "    corp_bb_df = pickle.load(f).ffill(axis=1) * 0.01\n",
    "    corp_bb_df = corp_bb_df.loc[:, start_date:end_date]\n",
    "with open(f\"{data_path}/gov10_bond.pkl\", 'rb') as f:\n",
    "    gov10_df = pickle.load(f).ffill(axis=1) * 0.01\n",
    "    gov10_df = gov10_df.loc[:, start_date:end_date]\n",
    "with open(f\"{data_path}/gov3_bond.pkl\", 'rb') as f:\n",
    "    gov3_df = pickle.load(f).ffill(axis=1) * 0.01\n",
    "    gov3_df = gov3_df.loc[:, start_date:end_date]\n",
    "corp_df = (corp_aa_df + corp_bb_df) / 2"
   ]
  },
  {
   "cell_type": "code",
   "execution_count": null,
   "metadata": {},
   "outputs": [],
   "source": [
    "R     = returns_df\n",
    "MC    = mc_df\n",
    "BE    = be_df \n",
    "RF = rf_df / 252 # \uc77c\ub2e8\uc704 reblancing \uc2dc\ud589\ud558\ubbc0\ub85c 252\ub85c \ub098\ub204\uc5b4 \uc90c.\n",
    "GOV10   = gov10_df / 252\n",
    "GOV3 = gov3_df / 252\n",
    "CORP  = corp_df / 252\n",
    "MKT   = mkt_df\n",
    "mask  = mask_df.astype(bool)\n",
    "\n",
    "dates = R.columns\n",
    "tickers = R.index"
   ]
  },
  {
   "cell_type": "code",
   "execution_count": null,
   "metadata": {},
   "outputs": [],
   "source": [
    "port_rets = {f\"S{i}B{j}\":[] for i in range(1,6) for j in range(1,6)}\n",
    "\n",
    "for dt in dates:\n",
    "    members = mask[dt][mask[dt]].index\n",
    "    if members.empty: \n",
    "        continue\n",
    "\n",
    "    # size quintile breakpoints\n",
    "    me = MC.loc[members, dt].dropna()\n",
    "    sz_br = me.quantile([0.2,0.4,0.6,0.8]).values\n",
    "\n",
    "    # BE/ME quintile breakpoints\n",
    "    bm = (BE.loc[members, dt] / MC.loc[members, dt]).dropna()\n",
    "    bm_br = bm.quantile([0.2,0.4,0.6,0.8]).values\n",
    "\n",
    "    # \uac01 \ud3ec\ud2b8\ud3f4\ub9ac\uc624\n",
    "    for i in range(1,6):\n",
    "        size_idx = me[\n",
    "            (me >  (sz_br[i-2] if i>1 else -np.inf)) &\n",
    "            (me <= (sz_br[i-1] if i<5 else  np.inf))\n",
    "        ].index\n",
    "        for j in range(1,6):\n",
    "            bm_idx = bm[\n",
    "              (bm >  (bm_br[j-2] if j>1 else -np.inf)) &\n",
    "              (bm <= (bm_br[j-1] if j<5 else  np.inf))\n",
    "            ].index\n",
    "\n",
    "            idx = size_idx.intersection(bm_idx)\n",
    "            name = f\"S{i}B{j}\"\n",
    "            if idx.empty:\n",
    "                ret = np.nan\n",
    "            else:\n",
    "                w = MC.loc[idx, dt]\n",
    "                w = w / w.sum()\n",
    "                ret = (R.loc[idx, dt] * w).sum()\n",
    "            port_rets[name].append((dt, ret))\n",
    "\n",
    "# DataFrame\uc73c\ub85c \ubcc0\ud658\n",
    "port_df = pd.DataFrame({\n",
    "    name: pd.Series(dict(port_rets[name]))\n",
    "    for name in port_rets\n",
    "}).sort_index(axis=1)\n",
    "port_df = port_df.interpolate(method='linear', axis=0, limit_direction='both')\n",
    "\n",
    "\n",
    "# \u2500\u2500 2) SMB, HML \uacc4\uc0b0 \u2500\u2500\n",
    "# SMB: size quintile 1 \ud3c9\uade0 \u2013 quintile 5 \ud3c9\uade0\n",
    "SMB = (port_df[[f\"S1B{j}\" for j in range(1,6)]].mean(axis=1) + port_df[[f\"S2B{j}\" for j in range(1,6)]].mean(axis=1)) \\\n",
    "        - (port_df[[f\"S5B{j}\" for j in range(1,6)]].mean(axis=1) + port_df[[f\"S4B{j}\" for j in range(1,6)]].mean(axis=1)) \n",
    "\n",
    "# HML: BE quintile 5 \ud3c9\uade0 \u2013 quintile 1 \ud3c9\uade0\n",
    "HML = (port_df[[f\"S{i}B5\" for i in range(1,6)]].mean(axis=1) + port_df[[f\"S{i}B4\" for i in range(1,6)]].mean(axis=1))\\\n",
    "     - (port_df[[f\"S{i}B1\" for i in range(1,6)]].mean(axis=1) + port_df[[f\"S{i}B2\" for i in range(1,6)]].mean(axis=1))\n",
    "\n",
    "\n",
    "factors = pd.DataFrame({\n",
    "    'MKT_RF': MKT.iloc[0] - RF.iloc[0],\n",
    "    'SMB':     SMB,\n",
    "    'HML':     HML,\n",
    "    'TERM':    GOV10.iloc[0]  - RF.iloc[0],\n",
    "    'DEF':     CORP.iloc[0] - GOV3.iloc[0],\n",
    "    'RF':      RF.iloc[0]\n",
    "}, index=dates).dropna()"
   ]
  },
  {
   "cell_type": "code",
   "execution_count": null,
   "metadata": {},
   "outputs": [],
   "source": [
    "factors"
   ]
  },
  {
   "cell_type": "markdown",
   "metadata": {},
   "source": [
    "### Prior Settings\n",
    "<img align=\"middle\" src=\"images\\bayesian_linear_reg.png\" height=\"400\" />"
   ]
  },
  {
   "cell_type": "markdown",
   "metadata": {},
   "source": [
    "<img align=\"middle\" src=\"images\\g-prior_settings.png\" height=\"400\" />"
   ]
  },
  {
   "cell_type": "markdown",
   "metadata": {},
   "source": [
    "<img align=\"middle\" src=\"images\\model_selection_settings.png\" height=\"400\" />"
   ]
  },
  {
   "cell_type": "markdown",
   "metadata": {},
   "source": [
    "<img align=\"middle\" src=\"images\\steps_for_MCMC.png\" height=\"400\" />"
   ]
  },
  {
   "cell_type": "markdown",
   "metadata": {},
   "source": [
    "My model for Bayesian FF\n",
    "\n",
    "Y = z_0*beta_0 + z_1*beta_1 * MKT_RF + z_2*beta_2 * SMB + z_3*beta_3 * HML + z_4*beta_4 * TERM + z_5*beta_5 * DEF + e"
   ]
  },
  {
   "cell_type": "code",
   "execution_count": null,
   "metadata": {},
   "outputs": [],
   "source": [
    "import scipy.stats as stats\n",
    "from numpy.linalg import pinv\n",
    "# drop the last column (RF)\n",
    "# y = (np.array(port_df['S1B1']) - np.array(factors['RF'])).reshape(-1, 1)\n",
    "X = np.array(factors.iloc[:, :-1])\n",
    "X = np.vstack([np.ones(X.shape[0]), X.T]).T\n",
    "\n",
    "# prior parameters\n",
    "n = X.shape[0] # inherit BIC\u2019s consistency and avoid the Bartlett/Lindley paradox\n",
    "num_features = X.shape[1] # number of features\n",
    "\n",
    "nu0 = X.shape[0] + 2 # low confidence of the prior\n",
    "sigma0 = 1\n",
    "\n",
    "z_0 = np.array([1, 0, 0, 0, 0, 0]) # only MKT, SMB, HML are included\n",
    "X_z = X @ np.diag(z_0)"
   ]
  },
  {
   "cell_type": "code",
   "execution_count": null,
   "metadata": {},
   "outputs": [],
   "source": [
    "def ssr_g(y, X_z, g):\n",
    "    \"\"\"Compute SSR_g for a given active design matrix X_z.\"\"\"\n",
    "    if X_z.shape[1] == 0:              # empty model\n",
    "        hat = np.zeros_like(y)\n",
    "    else:\n",
    "        XtX_inv = pinv(X_z.T @ X_z)\n",
    "        hat = (g/(g+1)) * X_z @ (XtX_inv @ (X_z.T @ y))\n",
    "    resid = y - hat\n",
    "    return resid.T @ resid            # scalar"
   ]
  },
  {
   "cell_type": "markdown",
   "metadata": {},
   "source": [
    "### MCMC Settings"
   ]
  },
  {
   "cell_type": "code",
   "execution_count": null,
   "metadata": {},
   "outputs": [],
   "source": [
    "def get_pj(z, g, pi, nu, sigma, y, X):\n",
    "    z_minus = z.copy()\n",
    "    z_minus[j] = 0\n",
    "    X0 = X[:, z_minus.astype(bool)]\n",
    "    ssr0 = ssr_g(y, X0, g)\n",
    "    \n",
    "    z_plus = z.copy()\n",
    "    z_plus[j] = 1\n",
    "    X1 = X[:, z_plus.astype(bool)]\n",
    "    ssr1 = ssr_g(y, X1, g)\n",
    "    \n",
    "    log_prior_odds = np.log(pi / (1.0 - pi))\n",
    "    log_lik_ratio  = -0.5*np.log(1+g) \\\n",
    "                        -0.5*(nu+n)*(\n",
    "                            np.log(nu*sigma**2 + ssr1) -\n",
    "                            np.log(nu*sigma**2 + ssr0)\n",
    "                        )\n",
    "    log_o = log_prior_odds + log_lik_ratio\n",
    "    p_j   = 1.0 / (1.0 + np.exp(-log_o))  # inverse-logit\n",
    "    return p_j\n",
    "\n",
    "def gibbs_update_z(y, X, z, g=10.0, nu=1.0, sigma=1.0, pi=0.5):\n",
    "    \"\"\"\n",
    "    One full Gibbs sweep over all coordinates of z.\n",
    "    Parameters\n",
    "    ----------\n",
    "    y : (n,) array\n",
    "    X : (n,p) array\n",
    "    z : (p,)   current 0/1 vector\n",
    "    g, nu, sigma : hyper-parameters\n",
    "    pi : prior inclusion probability (scalar or length-p array)\n",
    "    Returns\n",
    "    -------\n",
    "    z_new : (p,) updated 0/1 vector\n",
    "    \"\"\"\n",
    "    n, p = X.shape\n",
    "    z_new = z.copy()\n",
    "    # random visiting order\n",
    "    for j in np.random.permutation(p):\n",
    "        p_j   = get_pj(z_new, g, pi, nu, sigma, y, X)\n",
    "        z_new[j] = (np.random.rand() < p_j).astype(int)\n",
    "    return z_new\n",
    "\n",
    "def gibbs_update_sigma(y, X, z, g=10.0):\n",
    "    \"\"\"\n",
    "    Update sigma given y, X, and z.\n",
    "    Parameters\n",
    "    ----------\n",
    "    y : (n,) array\n",
    "    X : (n,p) array\n",
    "    z : (p,)   0/1 vector\n",
    "    Returns\n",
    "    -------\n",
    "    sigma : scalar\n",
    "    \"\"\"\n",
    "    return stats.invgamma((nu0 + n)/2, scale=(nu0*sigma0**2 + ssr_g(y, X@np.diag(z), g)/2)).rvs()\n",
    "\n",
    "def gibbs_update_beta(y, X, z, sigma, g=10.0):\n",
    "    \"\"\"\n",
    "    Update beta given y, X, z, and sigma.\n",
    "    Parameters\n",
    "    ----------\n",
    "    y : (n,) array\n",
    "    X : (n,p) array\n",
    "    z : (p,)   0/1 vector\n",
    "    sigma : scalar\n",
    "    Returns\n",
    "    -------\n",
    "    beta : (p,) array\n",
    "    \"\"\"\n",
    "    X_z = X @ np.diag(z)\n",
    "    return stats.multivariate_normal(\n",
    "        mean=np.zeros(X.shape[1]),\n",
    "        cov = g*sigma**2 * pinv(X_z.T @ X_z + np.eye(X_z.shape[1])*0.00001 )\n",
    "    ).rvs()"
   ]
  },
  {
   "cell_type": "markdown",
   "metadata": {},
   "source": [
    "### MCMC Sampling"
   ]
  },
  {
   "cell_type": "code",
   "execution_count": null,
   "metadata": {},
   "outputs": [],
   "source": [
    "from tqdm import trange\n",
    "def MCMC(y, S):\n",
    "    samples = []\n",
    "    for s in trange(S):\n",
    "        # update z\n",
    "        z = gibbs_update_z(y, X, z_0, g=n, nu=nu0, sigma=sigma0, pi=0.5)\n",
    "        # update sigma\n",
    "        sigma = gibbs_update_sigma(y, X, z, g=n)\n",
    "        # update beta\n",
    "        beta = gibbs_update_beta(y, X, z, sigma, g=n)\n",
    "        samples.append((z, sigma, beta))\n",
    "    return samples\n"
   ]
  },
  {
   "cell_type": "markdown",
   "metadata": {},
   "source": [
    "### Plotting the Results"
   ]
  },
  {
   "cell_type": "code",
   "execution_count": null,
   "metadata": {},
   "outputs": [],
   "source": [
    "universe_list = port_df.columns"
   ]
  },
  {
   "cell_type": "code",
   "execution_count": null,
   "metadata": {},
   "outputs": [],
   "source": [
    "import seaborn as sns\n",
    "import matplotlib.pyplot as plt\n",
    "# num of z_j given index\n",
    "def plot_prob(samples, ax=None):\n",
    "    z_count = np.zeros(X.shape[1])\n",
    "    for sample in samples:\n",
    "        z = sample[0]\n",
    "        z_count = z_count + z\n",
    "\n",
    "    z_count = z_count / len(samples)\n",
    "    sns.set(style=\"whitegrid\")\n",
    "    if ax is None:\n",
    "        ax = plt.gca()\n",
    "    ax.bar(range(1, len(z_count) + 1), z_count, color='blue')\n",
    "    ax.set_xticks(range(1, len(z_count) + 1))\n",
    "    ax.set_xticklabels(['Intercept', 'MKT', 'SMB', 'HML', 'TERM', 'DEF'])\n",
    "    ax.set_xlabel('Features')\n",
    "    ax.set_ylabel('Count')\n",
    "    ax.set_title('Feature Inclusion Count')\n"
   ]
  },
  {
   "cell_type": "code",
   "execution_count": null,
   "metadata": {},
   "outputs": [],
   "source": [
    "from scipy.stats import gaussian_kde\n",
    "\n",
    "def plot_beta_distribution(samples, feature_index, ax=None, bins=40):\n",
    "    \"\"\"\n",
    "    Plot the posterior distribution of \u03b2_j.\n",
    "    \"\"\"\n",
    "    beta_samples = np.array([s[2][feature_index] for s in samples])\n",
    "    kde = gaussian_kde(beta_samples)\n",
    "    x_grid = np.linspace(beta_samples.min(), beta_samples.max(), 1000)\n",
    "    density_vals = kde(x_grid)\n",
    "    density_vals /= density_vals.max()\n",
    "    peak_idx = np.argmax(density_vals)\n",
    "    peak_x = x_grid[peak_idx]\n",
    "    if ax is None:\n",
    "        ax = plt.gca()\n",
    "    sns.histplot(beta_samples, bins=bins, stat=\"density\", fill=False,\n",
    "                 element=\"step\", color=\"grey\", alpha=0.6, label=\"Histogram\", ax=ax)\n",
    "    ax.plot(x_grid, density_vals, color=\"steelblue\",\n",
    "            label=f'Feature {feature_index + 1}')\n",
    "    ax.fill_between(x_grid, density_vals, alpha=0.25, color=\"steelblue\")\n",
    "    ax.axvline(peak_x, color='red', linestyle='--', linewidth=1.4)\n",
    "    ax.text(peak_x, 0.8, f'{peak_x:.4f}', ha='center', va='bottom',\n",
    "            color='red')\n",
    "    ax.set_ylim(0, 1.05)\n",
    "    ax.set_xlabel('Beta Value')\n",
    "    ax.set_ylabel('Normalised Density\\n(peak = 1, area = 1)')\n",
    "    ax.set_title(f'Normalised Posterior of Beta for Feature {feature_index + 1}')\n",
    "    ax.legend()\n",
    "\n",
    "def plot_beta_distributions(samples, axes):\n",
    "    for j in range(len(samples[0][2])):\n",
    "        plot_beta_distribution(samples, j, ax=axes[j])\n"
   ]
  },
  {
   "cell_type": "code",
   "execution_count": null,
   "metadata": {},
   "outputs": [],
   "source": [
    "n_univ = len(universe_list)\n",
    "n_feat = X.shape[1]\n",
    "fig_prob, axes_prob = plt.subplots(1, n_univ, figsize=(5*n_univ, 4))\n",
    "fig_beta, axes_beta = plt.subplots(n_univ, n_feat, figsize=(6*n_feat, 4*n_univ))\n",
    "for i, universe in enumerate(universe_list):\n",
    "    y = (np.array(port_df[universe]) - np.array(factors['RF'])).reshape(-1, 1)\n",
    "    S = 10000\n",
    "    samples = MCMC(y, S)\n",
    "    plot_prob(samples, ax=axes_prob[i])\n",
    "    plot_beta_distributions(samples, axes=axes_beta[i])\n",
    "fig_prob.tight_layout()\n",
    "fig_beta.tight_layout()\n",
    "plt.show()\n"
   ]
  },
  {
   "cell_type": "code",
   "execution_count": null,
   "metadata": {},
   "outputs": [],
   "source": []
  }
 ],
 "metadata": {
  "kernelspec": {
   "display_name": "Python 3",
   "language": "python",
   "name": "python3"
  },
  "language_info": {
   "codemirror_mode": {
    "name": "ipython",
    "version": 3
   },
   "file_extension": ".py",
   "mimetype": "text/x-python",
   "name": "python",
   "nbconvert_exporter": "python",
   "pygments_lexer": "ipython3",
   "version": "3.12.3"
  }
 },
 "nbformat": 4,
 "nbformat_minor": 2
}
