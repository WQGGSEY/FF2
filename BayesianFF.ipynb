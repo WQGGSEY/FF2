{
 "cells": [
  {
   "cell_type": "markdown",
   "metadata": {},
   "source": [
    "# Bayesian Fama-French Factor Model"
   ]
  },
  {
   "cell_type": "markdown",
   "metadata": {},
   "source": [
    "### Data Settings"
   ]
  },
  {
   "cell_type": "code",
   "execution_count": 32,
   "metadata": {},
   "outputs": [],
   "source": [
    "import pandas as pd\n",
    "import numpy as np\n",
    "import pickle\n",
    "import warnings\n",
    "warnings.filterwarnings(\"ignore\")\n",
    "data_path = 'simulation_data'\n",
    "\n",
    "start_date = '2016-03-30'\n",
    "end_date = '2025-03-20'\n",
    "with open(f\"{data_path}/KS200_MASK.pkl\", 'rb') as f:\n",
    "    mask_df:pd.DataFrame = pickle.load(f).ffill(axis=1)\n",
    "    mask_df = mask_df.loc[:, start_date:end_date]\n",
    "with open(f\"{data_path}/Return.pkl\", 'rb') as f:\n",
    "    returns_df = pickle.load(f).ffill(axis=1) * 0.01\n",
    "    returns_df = returns_df.loc[:, start_date:end_date]\n",
    "with open(f\"{data_path}/MarketCap.pkl\", 'rb') as f:\n",
    "    mc_df = pickle.load(f).ffill(axis=1)\n",
    "    mc_df = mc_df.loc[:, start_date:end_date]\n",
    "with open(f\"{data_path}/ifrs-full_Equity.pkl\", 'rb') as f:\n",
    "    be_df = pickle.load(f).ffill(axis=1)\n",
    "    be_df = be_df.loc[:, start_date:end_date]\n",
    "with open(f\"{data_path}/KOSPI_Close.pkl\", 'rb') as f:\n",
    "    kospi_close_df = pickle.load(f).ffill(axis=1)\n",
    "    kospi_return_df = kospi_close_df.pct_change(axis=1)\n",
    "    mkt_df = kospi_return_df.loc[:, start_date:end_date]\n",
    "with open(f\"{data_path}/rf_bond.pkl\", 'rb') as f:\n",
    "    rf_df = pickle.load(f).ffill(axis=1) * 0.01\n",
    "    rf_df = rf_df.loc[:, start_date:end_date]\n",
    "with open(f\"{data_path}/corp_aa_bond.pkl\", 'rb') as f:\n",
    "    corp_aa_df = pickle.load(f).ffill(axis=1) * 0.01\n",
    "    corp_aa_df = corp_aa_df.loc[:, start_date:end_date]\n",
    "with open(f\"{data_path}/corp_bb_bond.pkl\", 'rb') as f:\n",
    "    corp_bb_df = pickle.load(f).ffill(axis=1) * 0.01\n",
    "    corp_bb_df = corp_bb_df.loc[:, start_date:end_date]\n",
    "with open(f\"{data_path}/gov10_bond.pkl\", 'rb') as f:\n",
    "    gov10_df = pickle.load(f).ffill(axis=1) * 0.01\n",
    "    gov10_df = gov10_df.loc[:, start_date:end_date]\n",
    "with open(f\"{data_path}/gov3_bond.pkl\", 'rb') as f:\n",
    "    gov3_df = pickle.load(f).ffill(axis=1) * 0.01\n",
    "    gov3_df = gov3_df.loc[:, start_date:end_date]\n",
    "corp_df = (corp_aa_df + corp_bb_df) / 2"
   ]
  },
  {
   "cell_type": "code",
   "execution_count": 3,
   "metadata": {},
   "outputs": [],
   "source": [
    "R     = returns_df\n",
    "MC    = mc_df\n",
    "BE    = be_df \n",
    "RF = rf_df / 252 # 일단위 reblancing 시행하므로 252로 나누어 줌.\n",
    "GOV10   = gov10_df / 252\n",
    "GOV3 = gov3_df / 252\n",
    "CORP  = corp_df / 252\n",
    "MKT   = mkt_df\n",
    "mask  = mask_df.astype(bool)\n",
    "\n",
    "dates = R.columns\n",
    "tickers = R.index"
   ]
  },
  {
   "cell_type": "code",
   "execution_count": 23,
   "metadata": {},
   "outputs": [],
   "source": [
    "port_rets = {f\"S{i}B{j}\":[] for i in range(1,6) for j in range(1,6)}\n",
    "\n",
    "for dt in dates:\n",
    "    members = mask[dt][mask[dt]].index\n",
    "    if members.empty: \n",
    "        continue\n",
    "\n",
    "    # size quintile breakpoints\n",
    "    me = MC.loc[members, dt].dropna()\n",
    "    sz_br = me.quantile([0.2,0.4,0.6,0.8]).values\n",
    "\n",
    "    # BE/ME quintile breakpoints\n",
    "    bm = (BE.loc[members, dt] / MC.loc[members, dt]).dropna()\n",
    "    bm_br = bm.quantile([0.2,0.4,0.6,0.8]).values\n",
    "\n",
    "    # 각 포트폴리오\n",
    "    for i in range(1,6):\n",
    "        size_idx = me[\n",
    "            (me >  (sz_br[i-2] if i>1 else -np.inf)) &\n",
    "            (me <= (sz_br[i-1] if i<5 else  np.inf))\n",
    "        ].index\n",
    "        for j in range(1,6):\n",
    "            bm_idx = bm[\n",
    "              (bm >  (bm_br[j-2] if j>1 else -np.inf)) &\n",
    "              (bm <= (bm_br[j-1] if j<5 else  np.inf))\n",
    "            ].index\n",
    "\n",
    "            idx = size_idx.intersection(bm_idx)\n",
    "            name = f\"S{i}B{j}\"\n",
    "            if idx.empty:\n",
    "                ret = np.nan\n",
    "            else:\n",
    "                w = MC.loc[idx, dt]\n",
    "                w = w / w.sum()\n",
    "                ret = (R.loc[idx, dt] * w).sum()\n",
    "            port_rets[name].append((dt, ret))\n",
    "\n",
    "# DataFrame으로 변환\n",
    "port_df = pd.DataFrame({\n",
    "    name: pd.Series(dict(port_rets[name]))\n",
    "    for name in port_rets\n",
    "}).sort_index(axis=1)\n",
    "port_df = port_df.interpolate(method='linear', axis=0, limit_direction='both')\n",
    "\n",
    "\n",
    "# ── 2) SMB, HML 계산 ──\n",
    "# SMB: size quintile 1 평균 – quintile 5 평균\n",
    "SMB = (port_df[[f\"S1B{j}\" for j in range(1,6)]].mean(axis=1) + port_df[[f\"S2B{j}\" for j in range(1,6)]].mean(axis=1)) \\\n",
    "        - (port_df[[f\"S5B{j}\" for j in range(1,6)]].mean(axis=1) + port_df[[f\"S4B{j}\" for j in range(1,6)]].mean(axis=1)) \n",
    "\n",
    "# HML: BE quintile 5 평균 – quintile 1 평균\n",
    "HML = (port_df[[f\"S{i}B5\" for i in range(1,6)]].mean(axis=1) + port_df[[f\"S{i}B4\" for i in range(1,6)]].mean(axis=1))\\\n",
    "     - (port_df[[f\"S{i}B1\" for i in range(1,6)]].mean(axis=1) + port_df[[f\"S{i}B2\" for i in range(1,6)]].mean(axis=1))\n",
    "\n",
    "\n",
    "factors = pd.DataFrame({\n",
    "    'MKT_RF': MKT.iloc[0] - RF.iloc[0],\n",
    "    'SMB':     SMB,\n",
    "    'HML':     HML,\n",
    "    'TERM':    GOV10.iloc[0]  - RF.iloc[0],\n",
    "    'DEF':     CORP.iloc[0] - GOV3.iloc[0],\n",
    "    'RF':      RF.iloc[0]\n",
    "}, index=dates).dropna()"
   ]
  },
  {
   "cell_type": "code",
   "execution_count": 24,
   "metadata": {},
   "outputs": [
    {
     "data": {
      "application/vnd.microsoft.datawrangler.viewer.v0+json": {
       "columns": [
        {
         "name": "index",
         "rawType": "object",
         "type": "string"
        },
        {
         "name": "MKT_RF",
         "rawType": "float64",
         "type": "float"
        },
        {
         "name": "SMB",
         "rawType": "float64",
         "type": "float"
        },
        {
         "name": "HML",
         "rawType": "float64",
         "type": "float"
        },
        {
         "name": "TERM",
         "rawType": "float64",
         "type": "float"
        },
        {
         "name": "DEF",
         "rawType": "float64",
         "type": "float"
        },
        {
         "name": "RF",
         "rawType": "float64",
         "type": "float"
        }
       ],
       "conversionMethod": "pd.DataFrame",
       "ref": "269f590d-186d-421c-b56c-0f0789e3264b",
       "rows": [
        [
         "2016-03-30",
         "0.0035603347602983526",
         "-0.004864224527846413",
         "-0.00825488142108016",
         "6.785714285714286e-06",
         "0.00013791666666666667",
         "6.388888888888888e-05"
        ],
        [
         "2016-03-31",
         "-0.003205527335750883",
         "0.01200254351007559",
         "-0.004496580459691794",
         "7.261904761904757e-06",
         "0.00013805555555555557",
         "6.388888888888888e-05"
        ],
        [
         "2016-04-01",
         "-0.01122705245328495",
         "0.02186822074778448",
         "-0.009722513141279298",
         "7.380952380952395e-06",
         "0.00013789682539682541",
         "6.388888888888888e-05"
        ],
        [
         "2016-04-04",
         "0.002672269443473293",
         "-0.0022498504852700857",
         "-0.021756751929874134",
         "6.190476190476204e-06",
         "0.00013785714285714288",
         "6.388888888888888e-05"
        ],
        [
         "2016-04-05",
         "-0.008265124885392132",
         "0.011212540154047134",
         "-0.002196391994185974",
         "7.023809523809535e-06",
         "0.00013765873015873014",
         "6.388888888888888e-05"
        ],
        [
         "2016-04-06",
         "0.004307551036929011",
         "0.008300635947419054",
         "-0.011223121894935916",
         "7.023809523809535e-06",
         "0.0001376190476190476",
         "6.388888888888888e-05"
        ],
        [
         "2016-04-07",
         "0.001239806097211834",
         "0.006791377263599085",
         "-0.004759825724232211",
         "7.579365079365085e-06",
         "0.00013757936507936505",
         "6.388888888888888e-05"
        ],
        [
         "2016-04-08",
         "-0.0009960583613519958",
         "-0.008827368582115556",
         "-0.001803578295132186",
         "7.301587301587317e-06",
         "0.00013761904761904766",
         "6.388888888888888e-05"
        ],
        [
         "2016-04-11",
         "-0.000915794266541673",
         "0.004660107542942081",
         "0.03799055406576943",
         "7.301587301587317e-06",
         "0.00013753968253968254",
         "6.388888888888888e-05"
        ],
        [
         "2016-04-12",
         "0.00549344298278995",
         "-0.016922781909903227",
         "0.01211100743238397",
         "7.1825396825396786e-06",
         "0.00013759920634920633",
         "6.388888888888888e-05"
        ],
        [
         "2016-04-14",
         "0.017404263655879302",
         "-0.01611844402662295",
         "0.03351074779551203",
         "9.285714285714293e-06",
         "0.0001375198412698413",
         "6.388888888888888e-05"
        ],
        [
         "2016-04-15",
         "-0.0006690686322331752",
         "0.014135439174073113",
         "-0.019689583032882846",
         "9.126984126984136e-06",
         "0.0001376190476190476",
         "6.388888888888888e-05"
        ],
        [
         "2016-04-18",
         "-0.0028484087453446694",
         "-0.014400142709259864",
         "-0.02390404080207414",
         "9.325396825396839e-06",
         "0.00013757936507936507",
         "6.388888888888888e-05"
        ],
        [
         "2016-04-19",
         "0.001060992898976406",
         "0.0032302970861836774",
         "-0.00043460786979710245",
         "9.047619047619057e-06",
         "0.00013761904761904763",
         "6.388888888888888e-05"
        ],
        [
         "2016-04-20",
         "-0.0028132723905991675",
         "0.002628911867702424",
         "0.0008254586899335038",
         "7.698412698412709e-06",
         "0.0001376190476190476",
         "6.388888888888888e-05"
        ],
        [
         "2016-04-21",
         "0.008047466510123088",
         "-0.001642147276969437",
         "-0.012603681251307484",
         "8.53174603174604e-06",
         "0.00013763888888888889",
         "6.388888888888888e-05"
        ],
        [
         "2016-04-22",
         "-0.00333276777717331",
         "0.005667089412155912",
         "-0.007710304188801411",
         "8.650793650793665e-06",
         "0.00013781746031746035",
         "6.388888888888888e-05"
        ],
        [
         "2016-04-25",
         "-0.000530276715174386",
         "0.007602871003660687",
         "0.005082966531892665",
         "8.769841269841276e-06",
         "0.00013793650793650795",
         "6.388888888888888e-05"
        ],
        [
         "2016-04-26",
         "0.0024577660712760984",
         "0.012782823497354429",
         "-0.018933231287678255",
         "8.174603174603194e-06",
         "0.00013793650793650795",
         "6.388888888888888e-05"
        ],
        [
         "2016-04-27",
         "-0.002158331930436156",
         "0.004312007751022585",
         "0.019291064043359195",
         "7.97619047619049e-06",
         "0.00013777777777777776",
         "6.388888888888888e-05"
        ],
        [
         "2016-04-28",
         "-0.007243605074261497",
         "0.015031507421980186",
         "0.0052652154111887525",
         "7.579365079365085e-06",
         "0.00013771825396825398",
         "6.388888888888888e-05"
        ],
        [
         "2016-04-29",
         "-0.0034523132715509586",
         "0.012397123420779841",
         "0.011694598462136782",
         "7.301587301587317e-06",
         "0.00013765873015873014",
         "6.388888888888888e-05"
        ],
        [
         "2016-05-02",
         "-0.008087357534677845",
         "-0.030356877948552123",
         "-0.005747789764480756",
         "7.81746031746032e-06",
         "0.00013759920634920638",
         "6.388888888888888e-05"
        ],
        [
         "2016-05-03",
         "0.004111729744682854",
         "-0.010539385412172036",
         "-0.012227131357606488",
         "7.341269841269849e-06",
         "0.0001378373015873016",
         "6.388888888888888e-05"
        ],
        [
         "2016-05-04",
         "-0.004947070105254106",
         "-0.010683706368736758",
         "-0.027855013136861714",
         "6.468253968253972e-06",
         "0.00013773809523809523",
         "6.388888888888888e-05"
        ],
        [
         "2016-05-09",
         "-0.004566319695633506",
         "-0.008940286071198338",
         "-0.04914610898907403",
         "6.230158730158737e-06",
         "0.0001379563492063492",
         "6.388888888888888e-05"
        ],
        [
         "2016-05-10",
         "0.00740165955175546",
         "0.014300309246610226",
         "-0.008149367260683858",
         "6.666666666666675e-06",
         "0.00013795634920634923",
         "6.349206349206349e-05"
        ],
        [
         "2016-05-11",
         "-0.0012740847494946063",
         "0.004384185283725396",
         "-0.011490735290611368",
         "6.547619047619051e-06",
         "0.00013775793650793654",
         "6.349206349206349e-05"
        ],
        [
         "2016-05-12",
         "-0.0013816073101967287",
         "-0.0006741556788003415",
         "-0.0006129624299374475",
         "6.5079365079365046e-06",
         "0.00013771825396825395",
         "6.349206349206349e-05"
        ],
        [
         "2016-05-13",
         "-0.005373253427645572",
         "0.002288970863032133",
         "-0.013515571252838109",
         "6.666666666666675e-06",
         "0.00013753968253968251",
         "6.349206349206349e-05"
        ],
        [
         "2016-05-16",
         "0.00040502130117918856",
         "0.0007864348822823643",
         "-0.010107967523003145",
         "7.698412698412696e-06",
         "0.0001376190476190476",
         "6.26984126984127e-05"
        ],
        [
         "2016-05-17",
         "1.3524585304504504e-05",
         "0.005509453439929484",
         "-0.021968447547686572",
         "8.373015873015856e-06",
         "0.00013759920634920638",
         "6.26984126984127e-05"
        ],
        [
         "2016-05-18",
         "-0.005819636717424868",
         "-0.012673223162519141",
         "0.020307153910996883",
         "8.769841269841262e-06",
         "0.00013757936507936505",
         "6.26984126984127e-05"
        ],
        [
         "2016-05-19",
         "-0.005146919045939834",
         "0.003472044859176033",
         "-0.005759155401722317",
         "1.0674603174603173e-05",
         "0.00013757936507936507",
         "6.19047619047619e-05"
        ],
        [
         "2016-05-20",
         "0.00039526040313703323",
         "0.00943310472167573",
         "-0.010034433306819607",
         "9.642857142857139e-06",
         "0.00013775793650793654",
         "6.19047619047619e-05"
        ],
        [
         "2016-05-23",
         "0.0038299249628431244",
         "-0.0004963251425888122",
         "-0.006333351403927609",
         "9.523809523809528e-06",
         "0.00013787698412698413",
         "6.19047619047619e-05"
        ],
        [
         "2016-05-24",
         "-0.009047967925183085",
         "0.009037159784291083",
         "-0.004272475831300786",
         "8.214285714285713e-06",
         "0.00013797619047619048",
         "6.19047619047619e-05"
        ],
        [
         "2016-05-25",
         "0.011720226446550632",
         "-0.005886475820965735",
         "0.018794278174892348",
         "8.928571428571433e-06",
         "0.0001378174603174603",
         "6.19047619047619e-05"
        ],
        [
         "2016-05-26",
         "-0.0018216509503966017",
         "-0.00017142933946532983",
         "-0.00022825959253261908",
         "9.126984126984122e-06",
         "0.00013767857142857142",
         "6.19047619047619e-05"
        ],
        [
         "2016-05-27",
         "0.0061259484464793465",
         "-0.012138125221029328",
         "0.005367847599013605",
         "8.650793650793651e-06",
         "0.00013767857142857142",
         "6.19047619047619e-05"
        ],
        [
         "2016-05-30",
         "-0.0010978742312751078",
         "-0.003727976886080821",
         "-0.009901309372760441",
         "1.0039682539682545e-05",
         "0.00013753968253968251",
         "6.19047619047619e-05"
        ],
        [
         "2016-05-31",
         "0.008209028018338506",
         "0.007166537092353813",
         "-0.007029990036565278",
         "9.960317460317467e-06",
         "0.00013771825396825398",
         "6.19047619047619e-05"
        ],
        [
         "2016-06-01",
         "-0.000404750380539497",
         "0.008097676034406271",
         "-0.00628226171439309",
         "7.817460317460307e-06",
         "0.00013769841269841267",
         "6.19047619047619e-05"
        ],
        [
         "2016-06-02",
         "0.0011435100218267224",
         "0.0224958469579291",
         "-0.03200716956995772",
         "8.055555555555556e-06",
         "0.00013767857142857145",
         "6.19047619047619e-05"
        ],
        [
         "2016-06-03",
         "0.000305833046075733",
         "0.010821154083283597",
         "-0.0016034289101418027",
         "7.063492063492068e-06",
         "0.00013777777777777776",
         "6.19047619047619e-05"
        ],
        [
         "2016-06-07",
         "0.012925042827024948",
         "-0.00442539717457896",
         "-0.0012675918071292543",
         "6.150793650793658e-06",
         "0.00013771825396825395",
         "6.19047619047619e-05"
        ],
        [
         "2016-06-08",
         "0.007618434067800329",
         "-0.005727029845581304",
         "0.004449137309382102",
         "5.436507936507952e-06",
         "0.0001378769841269841",
         "6.19047619047619e-05"
        ],
        [
         "2016-06-09",
         "-0.0014907212141257646",
         "0.018328634245910365",
         "0.01684239091911925",
         "1.071428571428572e-05",
         "0.00013787698412698413",
         "5.515873015873015e-05"
        ],
        [
         "2016-06-10",
         "-0.0032861126520130814",
         "-0.0058046697176865145",
         "0.0012856156531109646",
         "1.0396825396825405e-05",
         "0.00013839285714285714",
         "5.515873015873015e-05"
        ],
        [
         "2016-06-13",
         "-0.01917164688705577",
         "-0.0008901489140935304",
         "-0.0053199287997109795",
         "8.928571428571446e-06",
         "0.00013843253968253967",
         "5.515873015873015e-05"
        ]
       ],
       "shape": {
        "columns": 6,
        "rows": 2203
       }
      },
      "text/html": [
       "<div>\n",
       "<style scoped>\n",
       "    .dataframe tbody tr th:only-of-type {\n",
       "        vertical-align: middle;\n",
       "    }\n",
       "\n",
       "    .dataframe tbody tr th {\n",
       "        vertical-align: top;\n",
       "    }\n",
       "\n",
       "    .dataframe thead th {\n",
       "        text-align: right;\n",
       "    }\n",
       "</style>\n",
       "<table border=\"1\" class=\"dataframe\">\n",
       "  <thead>\n",
       "    <tr style=\"text-align: right;\">\n",
       "      <th></th>\n",
       "      <th>MKT_RF</th>\n",
       "      <th>SMB</th>\n",
       "      <th>HML</th>\n",
       "      <th>TERM</th>\n",
       "      <th>DEF</th>\n",
       "      <th>RF</th>\n",
       "    </tr>\n",
       "  </thead>\n",
       "  <tbody>\n",
       "    <tr>\n",
       "      <th>2016-03-30</th>\n",
       "      <td>0.003560</td>\n",
       "      <td>-0.004864</td>\n",
       "      <td>-0.008255</td>\n",
       "      <td>0.000007</td>\n",
       "      <td>0.000138</td>\n",
       "      <td>0.000064</td>\n",
       "    </tr>\n",
       "    <tr>\n",
       "      <th>2016-03-31</th>\n",
       "      <td>-0.003206</td>\n",
       "      <td>0.012003</td>\n",
       "      <td>-0.004497</td>\n",
       "      <td>0.000007</td>\n",
       "      <td>0.000138</td>\n",
       "      <td>0.000064</td>\n",
       "    </tr>\n",
       "    <tr>\n",
       "      <th>2016-04-01</th>\n",
       "      <td>-0.011227</td>\n",
       "      <td>0.021868</td>\n",
       "      <td>-0.009723</td>\n",
       "      <td>0.000007</td>\n",
       "      <td>0.000138</td>\n",
       "      <td>0.000064</td>\n",
       "    </tr>\n",
       "    <tr>\n",
       "      <th>2016-04-04</th>\n",
       "      <td>0.002672</td>\n",
       "      <td>-0.002250</td>\n",
       "      <td>-0.021757</td>\n",
       "      <td>0.000006</td>\n",
       "      <td>0.000138</td>\n",
       "      <td>0.000064</td>\n",
       "    </tr>\n",
       "    <tr>\n",
       "      <th>2016-04-05</th>\n",
       "      <td>-0.008265</td>\n",
       "      <td>0.011213</td>\n",
       "      <td>-0.002196</td>\n",
       "      <td>0.000007</td>\n",
       "      <td>0.000138</td>\n",
       "      <td>0.000064</td>\n",
       "    </tr>\n",
       "    <tr>\n",
       "      <th>...</th>\n",
       "      <td>...</td>\n",
       "      <td>...</td>\n",
       "      <td>...</td>\n",
       "      <td>...</td>\n",
       "      <td>...</td>\n",
       "      <td>...</td>\n",
       "    </tr>\n",
       "    <tr>\n",
       "      <th>2025-03-14</th>\n",
       "      <td>-0.002941</td>\n",
       "      <td>0.001041</td>\n",
       "      <td>-0.004142</td>\n",
       "      <td>-0.000001</td>\n",
       "      <td>0.000137</td>\n",
       "      <td>0.000113</td>\n",
       "    </tr>\n",
       "    <tr>\n",
       "      <th>2025-03-17</th>\n",
       "      <td>0.017161</td>\n",
       "      <td>-0.012326</td>\n",
       "      <td>-0.007089</td>\n",
       "      <td>-0.000001</td>\n",
       "      <td>0.000137</td>\n",
       "      <td>0.000113</td>\n",
       "    </tr>\n",
       "    <tr>\n",
       "      <th>2025-03-18</th>\n",
       "      <td>0.000519</td>\n",
       "      <td>-0.009031</td>\n",
       "      <td>-0.000572</td>\n",
       "      <td>-0.000002</td>\n",
       "      <td>0.000137</td>\n",
       "      <td>0.000113</td>\n",
       "    </tr>\n",
       "    <tr>\n",
       "      <th>2025-03-19</th>\n",
       "      <td>0.006119</td>\n",
       "      <td>0.000945</td>\n",
       "      <td>0.010262</td>\n",
       "      <td>-0.000001</td>\n",
       "      <td>0.000136</td>\n",
       "      <td>0.000113</td>\n",
       "    </tr>\n",
       "    <tr>\n",
       "      <th>2025-03-20</th>\n",
       "      <td>0.003113</td>\n",
       "      <td>-0.014952</td>\n",
       "      <td>0.022179</td>\n",
       "      <td>-0.000002</td>\n",
       "      <td>0.000137</td>\n",
       "      <td>0.000113</td>\n",
       "    </tr>\n",
       "  </tbody>\n",
       "</table>\n",
       "<p>2203 rows × 6 columns</p>\n",
       "</div>"
      ],
      "text/plain": [
       "              MKT_RF       SMB       HML      TERM       DEF        RF\n",
       "2016-03-30  0.003560 -0.004864 -0.008255  0.000007  0.000138  0.000064\n",
       "2016-03-31 -0.003206  0.012003 -0.004497  0.000007  0.000138  0.000064\n",
       "2016-04-01 -0.011227  0.021868 -0.009723  0.000007  0.000138  0.000064\n",
       "2016-04-04  0.002672 -0.002250 -0.021757  0.000006  0.000138  0.000064\n",
       "2016-04-05 -0.008265  0.011213 -0.002196  0.000007  0.000138  0.000064\n",
       "...              ...       ...       ...       ...       ...       ...\n",
       "2025-03-14 -0.002941  0.001041 -0.004142 -0.000001  0.000137  0.000113\n",
       "2025-03-17  0.017161 -0.012326 -0.007089 -0.000001  0.000137  0.000113\n",
       "2025-03-18  0.000519 -0.009031 -0.000572 -0.000002  0.000137  0.000113\n",
       "2025-03-19  0.006119  0.000945  0.010262 -0.000001  0.000136  0.000113\n",
       "2025-03-20  0.003113 -0.014952  0.022179 -0.000002  0.000137  0.000113\n",
       "\n",
       "[2203 rows x 6 columns]"
      ]
     },
     "execution_count": 24,
     "metadata": {},
     "output_type": "execute_result"
    }
   ],
   "source": [
    "factors"
   ]
  },
  {
   "cell_type": "markdown",
   "metadata": {},
   "source": [
    "### Prior Settings\n",
    "<img align=\"middle\" src=\"images\\bayesian_linear_reg.png\" height=\"400\" />"
   ]
  },
  {
   "cell_type": "markdown",
   "metadata": {},
   "source": [
    "<img align=\"middle\" src=\"images\\g-prior_settings.png\" height=\"400\" />"
   ]
  },
  {
   "cell_type": "markdown",
   "metadata": {},
   "source": [
    "<img align=\"middle\" src=\"images\\model_selection_settings.png\" height=\"400\" />"
   ]
  },
  {
   "cell_type": "markdown",
   "metadata": {},
   "source": [
    "<img align=\"middle\" src=\"images\\steps_for_MCMC.png\" height=\"400\" />"
   ]
  },
  {
   "cell_type": "markdown",
   "metadata": {},
   "source": [
    "My model for Bayesian FF\n",
    "\n",
    "Y = z_0*beta_0 + z_1*beta_1 * MKT_RF + z_2*beta_2 * SMB + z_3*beta_3 * HML + z_4*beta_4 * TERM + z_5*beta_5 * DEF + e"
   ]
  },
  {
   "cell_type": "code",
   "execution_count": 36,
   "metadata": {},
   "outputs": [
    {
     "name": "stderr",
     "output_type": "stream",
     "text": [
      "Assets: 100%|██████████| 25/25 [00:04<00:00,  5.68it/s]"
     ]
    },
    {
     "name": "stdout",
     "output_type": "stream",
     "text": [
      "      MKT_RF    SMB    HML   TERM    DEF\n",
      "S1B1     1.0  1.000  1.000  0.020  0.026\n",
      "S1B2     1.0  1.000  0.946  0.022  0.020\n",
      "S1B3     1.0  1.000  0.171  0.020  0.024\n",
      "S1B4     1.0  1.000  1.000  0.028  0.020\n",
      "S1B5     1.0  1.000  1.000  0.020  0.023\n",
      "S2B1     1.0  1.000  1.000  0.021  0.021\n",
      "S2B2     1.0  1.000  0.092  0.024  0.022\n",
      "S2B3     1.0  1.000  0.902  0.020  0.023\n",
      "S2B4     1.0  1.000  1.000  0.023  0.023\n",
      "S2B5     1.0  1.000  1.000  0.022  0.020\n",
      "S3B1     1.0  1.000  1.000  0.038  0.026\n",
      "S3B2     1.0  1.000  0.095  0.020  0.021\n",
      "S3B3     1.0  1.000  1.000  0.026  0.024\n",
      "S3B4     1.0  1.000  1.000  0.019  0.026\n",
      "S3B5     1.0  1.000  1.000  0.021  0.021\n",
      "S4B1     1.0  0.090  1.000  0.030  0.026\n",
      "S4B2     1.0  0.029  0.510  0.022  0.020\n",
      "S4B3     1.0  0.083  1.000  0.022  0.020\n",
      "S4B4     1.0  0.591  1.000  0.026  0.019\n",
      "S4B5     1.0  0.996  1.000  0.020  0.018\n",
      "S5B1     1.0  0.901  1.000  0.021  0.020\n",
      "S5B2     1.0  0.931  1.000  0.020  0.020\n",
      "S5B3     1.0  0.967  0.127  0.022  0.023\n",
      "S5B4     1.0  0.094  1.000  0.024  0.022\n",
      "S5B5     1.0  0.036  1.000  0.020  0.023\n"
     ]
    },
    {
     "name": "stderr",
     "output_type": "stream",
     "text": [
      "\n"
     ]
    }
   ],
   "source": [
    "import numpy as np, pandas as pd\n",
    "from numpy.linalg import inv\n",
    "from scipy.special import gammaln, expit\n",
    "from tqdm.auto import trange\n",
    "\n",
    "# ────────────────────────────────────────────────────────────────────────────\n",
    "# 1.  pre-compute log-marginal-likelihood for every mask ∈ {0,1}⁵\n",
    "#     (intercept 고정이라 5-bit → 32 개 모델)\n",
    "# ────────────────────────────────────────────────────────────────────────────\n",
    "def precompute_logml_table(X, y, nu0=1.0, s0_sq=1.0):\n",
    "    \"\"\"\n",
    "    Returns dict:  key = mask (0-31),   value = log p(y|z_mask,X)\n",
    "    \"\"\"\n",
    "    y = y.reshape(-1, 1)\n",
    "    n     = len(y)\n",
    "    g     = n\n",
    "    yTy   = float(y.T @ y)\n",
    "    XtX   = X.T @ X\n",
    "    Xty   = X.T @ y\n",
    "\n",
    "    logml = {}\n",
    "    for mask in range(32):                     # 5 bits, intercept 고정\n",
    "        bits   = [(mask >> k) & 1 for k in range(5)]\n",
    "        cols   = [0] + [i+1 for i,b in enumerate(bits) if b]\n",
    "        p_z    = len(cols)\n",
    "        XtX_z  = XtX[np.ix_(cols, cols)]\n",
    "        Xty_z  = Xty[cols]\n",
    "        beta_hat = inv(XtX_z) @ Xty_z\n",
    "        ssr     = yTy - (g / (g+1)) * float(Xty_z.T @ beta_hat)\n",
    "\n",
    "        t1 = -0.5 * n * np.log(np.pi)\n",
    "        t2 = -0.5 * p_z * np.log1p(g)\n",
    "        t3 = gammaln(0.5*(nu0+n)) - gammaln(0.5*nu0)\n",
    "        t4 = 0.5*nu0*np.log(nu0*s0_sq)\n",
    "        t5 = -0.5*(nu0+n)*np.log(nu0*s0_sq + ssr)\n",
    "        logml[mask] = t1+t2+t3+t4+t5\n",
    "    return logml\n",
    "\n",
    "# ────────────────────────────────────────────────────────────────────────────\n",
    "# 2.  super-fast Gibbs sampler using the logml table\n",
    "# ────────────────────────────────────────────────────────────────────────────\n",
    "def fast_gibbs_vs_gprior(X, y, *,\n",
    "                         n_iter=15_000, burn_in=5_000,\n",
    "                         prior_pi=0.5, rng=None, bar=False):\n",
    "    if rng is None:\n",
    "        rng = np.random.default_rng()\n",
    "    y = y.squeeze()\n",
    "    table = precompute_logml_table(X, y)                  # 32 × once\n",
    "    log_pi   = np.log(prior_pi)\n",
    "    log_1mpi = np.log1p(-prior_pi)\n",
    "\n",
    "    mask = rng.integers(0, 32)            # random start\n",
    "    saved = []\n",
    "    iterator = trange(n_iter, desc=\"Gibbs\", disable=not bar)\n",
    "    for _ in iterator:\n",
    "        for j in rng.permutation(5):      # toggle bit j\n",
    "            bit = 1 << j\n",
    "            mask1 = mask |  bit\n",
    "            mask0 = mask & ~bit\n",
    "            log_odds = (log_pi - log_1mpi) + table[mask1] - table[mask0]\n",
    "            if rng.random() < expit(log_odds):\n",
    "                mask = mask1\n",
    "            else:\n",
    "                mask = mask0\n",
    "        if _ >= burn_in:\n",
    "            saved.append(mask)\n",
    "    saved = np.array(saved)\n",
    "    # posterior inclusion prob for each of 5 factors\n",
    "    probs = np.zeros(5)\n",
    "    for j in range(5):\n",
    "        probs[j] = ((saved >> j) & 1).mean()\n",
    "    return probs, saved\n",
    "\n",
    "def fast_gibbs_multi(X, Y, **kw):\n",
    "    Y = np.asarray(Y)\n",
    "    if Y.ndim == 1: Y = Y.reshape(-1,1)\n",
    "    m = Y.shape[1]\n",
    "    rng = np.random.default_rng(kw.pop(\"random_state\", None))\n",
    "    probs = []; masks = []\n",
    "    for k in trange(m, desc=\"Assets\"):\n",
    "        p_k, ms = fast_gibbs_vs_gprior(X, Y[:,k], rng=rng, bar=False, **kw)\n",
    "        probs.append(p_k); masks.append(ms)\n",
    "    return np.vstack(probs), masks\n",
    "\n",
    "# ────────────────────────────────────────────────────────────────────────────\n",
    "# 3.  run  (변수 factors, port_df 는 그대로 사용)\n",
    "# ────────────────────────────────────────────────────────────────────────────\n",
    "factor_cols   = factors.columns.drop('RF')\n",
    "X = np.c_[np.ones(len(factors)), factors[factor_cols].to_numpy()]\n",
    "Y = port_df.subtract(factors['RF'], axis=0).to_numpy()\n",
    "response_cols = port_df.columns\n",
    "\n",
    "post_prob, _ = fast_gibbs_multi(\n",
    "    X, Y,\n",
    "    n_iter=15_000,\n",
    "    burn_in=5_000,\n",
    "    prior_pi=0.5,\n",
    "    random_state=42\n",
    ")\n",
    "\n",
    "# ────────────────────────────────────────────────────────────────────────────\n",
    "# 4.  결과\n",
    "# ────────────────────────────────────────────────────────────────────────────\n",
    "feature_names = factor_cols.tolist()\n",
    "results = pd.DataFrame(post_prob, columns=feature_names, index=response_cols)\n",
    "print(results.round(3))\n"
   ]
  },
  {
   "cell_type": "code",
   "execution_count": 37,
   "metadata": {},
   "outputs": [
    {
     "data": {
      "image/png": "[encoded data removed]",
      "text/plain": [
       "<Figure size 3950x500 with 2 Axes>"
      ]
     },
     "metadata": {},
     "output_type": "display_data"
    }
   ],
   "source": [
    "import matplotlib.pyplot as plt\n",
    "import seaborn as sns\n",
    "import numpy as np\n",
    "import pandas as pd\n",
    "\n",
    "\n",
    "# transpose so factors are rows and assets are columns\n",
    "res_T = results.T\n",
    "\n",
    "fig, ax = plt.subplots(figsize=(1.5 * res_T.shape[1] + 2, 0.6 * res_T.shape[0] + 2))\n",
    "sns.heatmap(res_T, annot=False, cmap='viridis', ax=ax,\n",
    "            cbar_kws={'label': 'Posterior inclusion probability'})\n",
    "\n",
    "# axis labels & title\n",
    "ax.set_xlabel('Assets')\n",
    "ax.set_ylabel('Factors')\n",
    "ax.set_title('Inclusion-probability heatmap (horizontal)')\n",
    "\n",
    "plt.tight_layout()\n",
    "plt.show()\n"
   ]
  },
  {
   "cell_type": "code",
   "execution_count": null,
   "metadata": {},
   "outputs": [],
   "source": []
  }
 ],
 "metadata": {
  "kernelspec": {
   "display_name": "Python 3",
   "language": "python",
   "name": "python3"
  },
  "language_info": {
   "codemirror_mode": {
    "name": "ipython",
    "version": 3
   },
   "file_extension": ".py",
   "mimetype": "text/x-python",
   "name": "python",
   "nbconvert_exporter": "python",
   "pygments_lexer": "ipython3",
   "version": "3.12.3"
  }
 },
 "nbformat": 4,
 "nbformat_minor": 2
}
